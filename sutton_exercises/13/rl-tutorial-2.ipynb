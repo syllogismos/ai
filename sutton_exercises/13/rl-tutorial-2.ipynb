{
 "cells": [
  {
   "cell_type": "markdown",
   "metadata": {},
   "source": [
    "# Simple Reinforcement Learning in Tensorflow Part 2: Policy Gradient Method\n",
    "This tutorial contains a simple example of how to build a policy-gradient based agent that can solve the CartPole problem. For more information, see this [Medium post](https://medium.com/@awjuliani/super-simple-reinforcement-learning-tutorial-part-2-ded33892c724#.mtwpvfi8b).\n",
    "\n",
    "For more Reinforcement Learning algorithms, including DQN and Model-based learning in Tensorflow, see my Github repo, [DeepRL-Agents](https://github.com/awjuliani/DeepRL-Agents). \n",
    "\n",
    "Parts of this tutorial are based on code by [Andrej Karpathy](https://gist.github.com/karpathy/a4166c7fe253700972fcbc77e4ea32c5) and [korymath](https://gym.openai.com/evaluations/eval_a0aVJrGSyW892vBM04HQA)."
   ]
  },
  {
   "cell_type": "code",
   "execution_count": 1,
   "metadata": {
    "collapsed": false
   },
   "outputs": [],
   "source": [
    "import numpy as np\n",
    "import cPickle as pickle\n",
    "import tensorflow as tf\n",
    "%matplotlib inline\n",
    "import matplotlib.pyplot as plt\n",
    "import math"
   ]
  },
  {
   "cell_type": "markdown",
   "metadata": {},
   "source": [
    "### Loading the CartPole Environment\n",
    "If you don't already have the OpenAI gym installed, use  `pip install gym` to grab it."
   ]
  },
  {
   "cell_type": "code",
   "execution_count": 2,
   "metadata": {
    "collapsed": false
   },
   "outputs": [
    {
     "name": "stderr",
     "output_type": "stream",
     "text": [
      "[2017-02-19 10:56:43,443] Making new env: CartPole-v0\n"
     ]
    }
   ],
   "source": [
    "import gym\n",
    "env = gym.make('CartPole-v0')"
   ]
  },
  {
   "cell_type": "markdown",
   "metadata": {},
   "source": [
    "What happens if we try running the environment with random actions? How well do we do? (Hint: not so well.)"
   ]
  },
  {
   "cell_type": "code",
   "execution_count": 3,
   "metadata": {
    "collapsed": false
   },
   "outputs": [
    {
     "name": "stdout",
     "output_type": "stream",
     "text": [
      "Reward for this episode was: 15.0\n",
      "Reward for this episode was: 22.0\n",
      "Reward for this episode was: 11.0\n",
      "Reward for this episode was: 21.0\n",
      "Reward for this episode was: 27.0\n",
      "Reward for this episode was: 34.0\n",
      "Reward for this episode was: 17.0\n",
      "Reward for this episode was: 43.0\n",
      "Reward for this episode was: 13.0\n",
      "Reward for this episode was: 15.0\n"
     ]
    }
   ],
   "source": [
    "env.reset()\n",
    "random_episodes = 0\n",
    "reward_sum = 0\n",
    "while random_episodes < 10:\n",
    "    env.render()\n",
    "    observation, reward, done, _ = env.step(np.random.randint(0,2))\n",
    "    reward_sum += reward\n",
    "    if done:\n",
    "        random_episodes += 1\n",
    "        print \"Reward for this episode was:\",reward_sum\n",
    "        reward_sum = 0\n",
    "        env.reset()"
   ]
  },
  {
   "cell_type": "markdown",
   "metadata": {},
   "source": [
    "The goal of the task is to achieve a reward of 200 per episode. For every step the agent keeps the pole in the air, the agent recieves a +1 reward. By randomly choosing actions, our reward for each episode is only a couple dozen. Let's make that better with RL!"
   ]
  },
  {
   "cell_type": "markdown",
   "metadata": {},
   "source": [
    "### Setting up our Neural Network agent\n",
    "This time we will be using a Policy neural network that takes observations, passes them through a single hidden layer, and then produces a probability of choosing a left/right movement. To learn more about this network, see [Andrej Karpathy's blog on Policy Gradient networks](http://karpathy.github.io/2016/05/31/rl/)."
   ]
  },
  {
   "cell_type": "code",
   "execution_count": 4,
   "metadata": {
    "collapsed": true
   },
   "outputs": [],
   "source": [
    "# hyperparameters\n",
    "H = 10 # number of hidden layer neurons\n",
    "batch_size = 5 # every how many episodes to do a param update?\n",
    "learning_rate = 1e-2 # feel free to play with this to train faster or more stably.\n",
    "gamma = 0.99 # discount factor for reward\n",
    "\n",
    "D = 4 # input dimensionality"
   ]
  },
  {
   "cell_type": "code",
   "execution_count": 5,
   "metadata": {
    "collapsed": false
   },
   "outputs": [],
   "source": [
    "tf.reset_default_graph()\n",
    "\n",
    "#This defines the network as it goes from taking an observation of the environment to \n",
    "#giving a probability of chosing to the action of moving left or right.\n",
    "observations = tf.placeholder(tf.float32, [None,D] , name=\"input_x\")\n",
    "W1 = tf.get_variable(\"W1\", shape=[D, H],\n",
    "           initializer=tf.contrib.layers.xavier_initializer())\n",
    "layer1 = tf.nn.relu(tf.matmul(observations,W1))\n",
    "W2 = tf.get_variable(\"W2\", shape=[H, 1],\n",
    "           initializer=tf.contrib.layers.xavier_initializer())\n",
    "score = tf.matmul(layer1,W2)\n",
    "probability = tf.nn.sigmoid(score)\n",
    "\n",
    "#From here we define the parts of the network needed for learning a good policy.\n",
    "tvars = tf.trainable_variables()\n",
    "input_y = tf.placeholder(tf.float32,[None,1], name=\"input_y\")\n",
    "advantages = tf.placeholder(tf.float32,name=\"reward_signal\")\n",
    "\n",
    "# The loss function. This sends the weights in the direction of making actions \n",
    "# that gave good advantage (reward over time) more likely, and actions that didn't less likely.\n",
    "loglik = tf.log(input_y*(input_y - probability) + (1 - input_y)*(input_y + probability))\n",
    "loss = -tf.reduce_mean(loglik * advantages) \n",
    "newGrads = tf.gradients(loss,tvars)\n",
    "\n",
    "# Once we have collected a series of gradients from multiple episodes, we apply them.\n",
    "# We don't just apply gradeients after every episode in order to account for noise in the reward signal.\n",
    "adam = tf.train.AdamOptimizer(learning_rate=learning_rate) # Our optimizer\n",
    "W1Grad = tf.placeholder(tf.float32,name=\"batch_grad1\") # Placeholders to send the final gradients through when we update.\n",
    "W2Grad = tf.placeholder(tf.float32,name=\"batch_grad2\")\n",
    "batchGrad = [W1Grad,W2Grad]\n",
    "updateGrads = adam.apply_gradients(zip(batchGrad,tvars))"
   ]
  },
  {
   "cell_type": "markdown",
   "metadata": {},
   "source": [
    "### Advantage function\n",
    "This function allows us to weigh the rewards our agent recieves. In the context of the Cart-Pole task, we want actions that kept the pole in the air a long time to have a large reward, and actions that contributed to the pole falling to have a decreased or negative reward. We do this by weighing the rewards from the end of the episode, with actions at the end being seen as negative, since they likely contributed to the pole falling, and the episode ending. Likewise, early actions are seen as more positive, since they weren't responsible for the pole falling."
   ]
  },
  {
   "cell_type": "code",
   "execution_count": 6,
   "metadata": {
    "collapsed": true
   },
   "outputs": [],
   "source": [
    "def discount_rewards(r):\n",
    "    \"\"\" take 1D float array of rewards and compute discounted reward \"\"\"\n",
    "    discounted_r = np.zeros_like(r)\n",
    "    running_add = 0\n",
    "    for t in reversed(xrange(0, r.size)):\n",
    "        running_add = running_add * gamma + r[t]\n",
    "        discounted_r[t] = running_add\n",
    "    return discounted_r"
   ]
  },
  {
   "cell_type": "markdown",
   "metadata": {},
   "source": [
    "### Running the Agent and Environment"
   ]
  },
  {
   "cell_type": "markdown",
   "metadata": {},
   "source": [
    "Here we run the neural network agent, and have it act in the CartPole environment."
   ]
  },
  {
   "cell_type": "code",
   "execution_count": null,
   "metadata": {
    "collapsed": false,
    "scrolled": true
   },
   "outputs": [
    {
     "name": "stdout",
     "output_type": "stream",
     "text": [
      "WARNING:tensorflow:From <ipython-input-7-448f425e61bc>:6 in <module>.: initialize_all_variables (from tensorflow.python.ops.variables) is deprecated and will be removed after 2017-03-02.\n",
      "Instructions for updating:\n",
      "Use `tf.global_variables_initializer` instead.\n"
     ]
    },
    {
     "name": "stderr",
     "output_type": "stream",
     "text": [
      "[2017-02-19 10:57:09,795] From <ipython-input-7-448f425e61bc>:6 in <module>.: initialize_all_variables (from tensorflow.python.ops.variables) is deprecated and will be removed after 2017-03-02.\n",
      "Instructions for updating:\n",
      "Use `tf.global_variables_initializer` instead.\n"
     ]
    },
    {
     "name": "stdout",
     "output_type": "stream",
     "text": [
      "Average reward for episode 10.400000.  Total average reward 10.400000.\n",
      "Average reward for episode 35.200000.  Total average reward 10.648000.\n",
      "Average reward for episode 25.200000.  Total average reward 10.793520.\n",
      "Average reward for episode 17.200000.  Total average reward 10.857585.\n",
      "Average reward for episode 23.200000.  Total average reward 10.981009.\n",
      "Average reward for episode 21.000000.  Total average reward 11.081199.\n",
      "Average reward for episode 21.800000.  Total average reward 11.188387.\n",
      "Average reward for episode 19.800000.  Total average reward 11.274503.\n",
      "Average reward for episode 27.200000.  Total average reward 11.433758.\n",
      "Average reward for episode 21.600000.  Total average reward 11.535420.\n",
      "Average reward for episode 21.400000.  Total average reward 11.634066.\n",
      "Average reward for episode 21.800000.  Total average reward 11.735726.\n",
      "Average reward for episode 18.000000.  Total average reward 11.798368.\n",
      "Average reward for episode 20.400000.  Total average reward 11.884385.\n",
      "Average reward for episode 24.400000.  Total average reward 12.009541.\n",
      "Average reward for episode 30.400000.  Total average reward 12.193445.\n",
      "Average reward for episode 24.400000.  Total average reward 12.315511.\n",
      "Average reward for episode 31.000000.  Total average reward 12.502356.\n",
      "Average reward for episode 27.200000.  Total average reward 12.649332.\n",
      "Average reward for episode 17.200000.  Total average reward 12.694839.\n",
      "Average reward for episode 31.400000.  Total average reward 12.881891.\n",
      "Average reward for episode 23.800000.  Total average reward 12.991072.\n",
      "Average reward for episode 35.400000.  Total average reward 13.215161.\n",
      "Average reward for episode 41.800000.  Total average reward 13.501009.\n",
      "Average reward for episode 21.400000.  Total average reward 13.579999.\n",
      "Average reward for episode 44.000000.  Total average reward 13.884199.\n",
      "Average reward for episode 19.800000.  Total average reward 13.943357.\n",
      "Average reward for episode 39.600000.  Total average reward 14.199924.\n",
      "Average reward for episode 25.000000.  Total average reward 14.307924.\n",
      "Average reward for episode 29.400000.  Total average reward 14.458845.\n",
      "Average reward for episode 20.000000.  Total average reward 14.514257.\n",
      "Average reward for episode 49.000000.  Total average reward 14.859114.\n",
      "Average reward for episode 48.000000.  Total average reward 15.190523.\n",
      "Average reward for episode 22.200000.  Total average reward 15.260618.\n",
      "Average reward for episode 27.200000.  Total average reward 15.380012.\n",
      "Average reward for episode 34.800000.  Total average reward 15.574211.\n",
      "Average reward for episode 53.600000.  Total average reward 15.954469.\n",
      "Average reward for episode 32.600000.  Total average reward 16.120925.\n",
      "Average reward for episode 22.400000.  Total average reward 16.183715.\n",
      "Average reward for episode 53.400000.  Total average reward 16.555878.\n",
      "Average reward for episode 21.600000.  Total average reward 16.606319.\n",
      "Average reward for episode 31.600000.  Total average reward 16.756256.\n",
      "Average reward for episode 23.000000.  Total average reward 16.818694.\n",
      "Average reward for episode 36.000000.  Total average reward 17.010507.\n",
      "Average reward for episode 20.800000.  Total average reward 17.048402.\n",
      "Average reward for episode 31.800000.  Total average reward 17.195918.\n",
      "Average reward for episode 25.600000.  Total average reward 17.279959.\n",
      "Average reward for episode 34.600000.  Total average reward 17.453159.\n",
      "Average reward for episode 28.800000.  Total average reward 17.566627.\n",
      "Average reward for episode 60.000000.  Total average reward 17.990961.\n",
      "Average reward for episode 27.600000.  Total average reward 18.087051.\n",
      "Average reward for episode 26.600000.  Total average reward 18.172181.\n",
      "Average reward for episode 44.600000.  Total average reward 18.436459.\n",
      "Average reward for episode 28.400000.  Total average reward 18.536095.\n",
      "Average reward for episode 28.600000.  Total average reward 18.636734.\n",
      "Average reward for episode 39.200000.  Total average reward 18.842366.\n",
      "Average reward for episode 36.400000.  Total average reward 19.017943.\n",
      "Average reward for episode 31.200000.  Total average reward 19.139763.\n",
      "Average reward for episode 48.800000.  Total average reward 19.436366.\n",
      "Average reward for episode 41.600000.  Total average reward 19.658002.\n",
      "Average reward for episode 33.400000.  Total average reward 19.795422.\n",
      "Average reward for episode 20.400000.  Total average reward 19.801468.\n",
      "Average reward for episode 36.200000.  Total average reward 19.965453.\n",
      "Average reward for episode 47.000000.  Total average reward 20.235798.\n",
      "Average reward for episode 37.000000.  Total average reward 20.403440.\n",
      "Average reward for episode 36.800000.  Total average reward 20.567406.\n",
      "Average reward for episode 40.000000.  Total average reward 20.761732.\n",
      "Average reward for episode 60.200000.  Total average reward 21.156115.\n",
      "Average reward for episode 48.000000.  Total average reward 21.424554.\n",
      "Average reward for episode 49.400000.  Total average reward 21.704308.\n",
      "Average reward for episode 34.000000.  Total average reward 21.827265.\n",
      "Average reward for episode 47.000000.  Total average reward 22.078992.\n",
      "Average reward for episode 44.000000.  Total average reward 22.298202.\n",
      "Average reward for episode 48.400000.  Total average reward 22.559220.\n",
      "Average reward for episode 44.600000.  Total average reward 22.779628.\n",
      "Average reward for episode 51.000000.  Total average reward 23.061832.\n",
      "Average reward for episode 47.200000.  Total average reward 23.303214.\n",
      "Average reward for episode 51.800000.  Total average reward 23.588181.\n",
      "Average reward for episode 38.000000.  Total average reward 23.732300.\n",
      "Average reward for episode 50.400000.  Total average reward 23.998977.\n",
      "Average reward for episode 46.800000.  Total average reward 24.226987.\n",
      "Average reward for episode 53.200000.  Total average reward 24.516717.\n",
      "Average reward for episode 45.000000.  Total average reward 24.721550.\n",
      "Average reward for episode 57.200000.  Total average reward 25.046334.\n",
      "Average reward for episode 49.000000.  Total average reward 25.285871.\n",
      "Average reward for episode 50.200000.  Total average reward 25.535012.\n",
      "Average reward for episode 58.400000.  Total average reward 25.863662.\n",
      "Average reward for episode 40.600000.  Total average reward 26.011025.\n",
      "Average reward for episode 63.600000.  Total average reward 26.386915.\n",
      "Average reward for episode 45.000000.  Total average reward 26.573046.\n",
      "Average reward for episode 41.800000.  Total average reward 26.725316.\n",
      "Average reward for episode 51.200000.  Total average reward 26.970062.\n",
      "Average reward for episode 49.400000.  Total average reward 27.194362.\n",
      "Average reward for episode 40.800000.  Total average reward 27.330418.\n",
      "Average reward for episode 45.200000.  Total average reward 27.509114.\n",
      "Average reward for episode 52.000000.  Total average reward 27.754023.\n",
      "Average reward for episode 41.000000.  Total average reward 27.886483.\n",
      "Average reward for episode 44.400000.  Total average reward 28.051618.\n",
      "Average reward for episode 68.200000.  Total average reward 28.453102.\n",
      "Average reward for episode 45.600000.  Total average reward 28.624571.\n",
      "Average reward for episode 39.200000.  Total average reward 28.730325.\n",
      "Average reward for episode 36.800000.  Total average reward 28.811022.\n",
      "Average reward for episode 61.800000.  Total average reward 29.140911.\n",
      "Average reward for episode 56.000000.  Total average reward 29.409502.\n",
      "Average reward for episode 83.200000.  Total average reward 29.947407.\n",
      "Average reward for episode 66.200000.  Total average reward 30.309933.\n",
      "Average reward for episode 55.800000.  Total average reward 30.564834.\n",
      "Average reward for episode 64.000000.  Total average reward 30.899186.\n",
      "Average reward for episode 58.600000.  Total average reward 31.176194.\n",
      "Average reward for episode 56.200000.  Total average reward 31.426432.\n",
      "Average reward for episode 60.800000.  Total average reward 31.720167.\n",
      "Average reward for episode 40.600000.  Total average reward 31.808966.\n",
      "Average reward for episode 49.000000.  Total average reward 31.980876.\n",
      "Average reward for episode 53.200000.  Total average reward 32.193067.\n",
      "Average reward for episode 55.000000.  Total average reward 32.421137.\n",
      "Average reward for episode 49.800000.  Total average reward 32.594925.\n",
      "Average reward for episode 99.400000.  Total average reward 33.262976.\n",
      "Average reward for episode 88.200000.  Total average reward 33.812346.\n",
      "Average reward for episode 74.800000.  Total average reward 34.222223.\n",
      "Average reward for episode 52.800000.  Total average reward 34.408001.\n",
      "Average reward for episode 119.400000.  Total average reward 35.257921.\n",
      "Average reward for episode 94.200000.  Total average reward 35.847341.\n",
      "Average reward for episode 70.800000.  Total average reward 36.196868.\n",
      "Average reward for episode 78.000000.  Total average reward 36.614899.\n",
      "Average reward for episode 59.800000.  Total average reward 36.846750.\n",
      "Average reward for episode 83.800000.  Total average reward 37.316283.\n",
      "Average reward for episode 66.400000.  Total average reward 37.607120.\n",
      "Average reward for episode 41.800000.  Total average reward 37.649049.\n",
      "Average reward for episode 81.200000.  Total average reward 38.084558.\n",
      "Average reward for episode 106.000000.  Total average reward 38.763713.\n",
      "Average reward for episode 58.400000.  Total average reward 38.960076.\n",
      "Average reward for episode 127.000000.  Total average reward 39.840475.\n",
      "Average reward for episode 71.800000.  Total average reward 40.160070.\n",
      "Average reward for episode 156.600000.  Total average reward 41.324469.\n",
      "Average reward for episode 105.800000.  Total average reward 41.969225.\n",
      "Average reward for episode 111.000000.  Total average reward 42.659532.\n",
      "Average reward for episode 104.400000.  Total average reward 43.276937.\n",
      "Average reward for episode 93.400000.  Total average reward 43.778168.\n",
      "Average reward for episode 74.600000.  Total average reward 44.086386.\n",
      "Average reward for episode 133.600000.  Total average reward 44.981522.\n",
      "Average reward for episode 133.600000.  Total average reward 45.867707.\n",
      "Average reward for episode 123.000000.  Total average reward 46.639030.\n",
      "Average reward for episode 130.200000.  Total average reward 47.474640.\n",
      "Average reward for episode 80.400000.  Total average reward 47.803893.\n",
      "Average reward for episode 110.800000.  Total average reward 48.433854.\n",
      "Average reward for episode 141.400000.  Total average reward 49.363516.\n",
      "Average reward for episode 109.200000.  Total average reward 49.961881.\n",
      "Average reward for episode 117.400000.  Total average reward 50.636262.\n",
      "Average reward for episode 100.600000.  Total average reward 51.135899.\n",
      "Average reward for episode 177.000000.  Total average reward 52.394540.\n",
      "Average reward for episode 150.800000.  Total average reward 53.378595.\n",
      "Average reward for episode 168.600000.  Total average reward 54.530809.\n",
      "Average reward for episode 145.600000.  Total average reward 55.441501.\n",
      "Average reward for episode 93.000000.  Total average reward 55.817086.\n",
      "Average reward for episode 180.200000.  Total average reward 57.060915.\n",
      "Average reward for episode 139.600000.  Total average reward 57.886306.\n",
      "Average reward for episode 153.200000.  Total average reward 58.839443.\n",
      "Average reward for episode 119.600000.  Total average reward 59.447048.\n",
      "Average reward for episode 168.400000.  Total average reward 60.536578.\n",
      "Average reward for episode 184.800000.  Total average reward 61.779212.\n",
      "Average reward for episode 136.600000.  Total average reward 62.527420.\n",
      "Average reward for episode 149.200000.  Total average reward 63.394146.\n",
      "Average reward for episode 135.400000.  Total average reward 64.114204.\n",
      "Average reward for episode 157.000000.  Total average reward 65.043062.\n",
      "Average reward for episode 183.800000.  Total average reward 66.230632.\n",
      "Average reward for episode 144.400000.  Total average reward 67.012325.\n",
      "Average reward for episode 169.600000.  Total average reward 68.038202.\n",
      "Average reward for episode 159.200000.  Total average reward 68.949820.\n",
      "Average reward for episode 156.400000.  Total average reward 69.824322.\n",
      "Average reward for episode 188.600000.  Total average reward 71.012079.\n",
      "Average reward for episode 155.800000.  Total average reward 71.859958.\n",
      "Average reward for episode 190.400000.  Total average reward 73.045358.\n",
      "Average reward for episode 178.800000.  Total average reward 74.102905.\n",
      "Average reward for episode 193.600000.  Total average reward 75.297876.\n",
      "Average reward for episode 149.400000.  Total average reward 76.038897.\n",
      "Average reward for episode 183.200000.  Total average reward 77.110508.\n",
      "Average reward for episode 200.000000.  Total average reward 78.339403.\n",
      "Average reward for episode 148.400000.  Total average reward 79.040009.\n",
      "Average reward for episode 171.400000.  Total average reward 79.963609.\n",
      "Average reward for episode 187.200000.  Total average reward 81.035973.\n",
      "Average reward for episode 189.600000.  Total average reward 82.121613.\n",
      "Average reward for episode 190.400000.  Total average reward 83.204397.\n",
      "Average reward for episode 189.400000.  Total average reward 84.266353.\n",
      "Average reward for episode 171.200000.  Total average reward 85.135689.\n",
      "Average reward for episode 199.200000.  Total average reward 86.276332.\n",
      "Average reward for episode 200.000000.  Total average reward 87.413569.\n",
      "Average reward for episode 200.000000.  Total average reward 88.539433.\n",
      "Average reward for episode 166.600000.  Total average reward 89.320039.\n",
      "Average reward for episode 166.000000.  Total average reward 90.086839.\n",
      "Average reward for episode 200.000000.  Total average reward 91.185970.\n",
      "Average reward for episode 149.400000.  Total average reward 91.768110.\n",
      "Average reward for episode 143.600000.  Total average reward 92.286429.\n",
      "Average reward for episode 181.400000.  Total average reward 93.177565.\n",
      "Average reward for episode 192.600000.  Total average reward 94.171789.\n",
      "Average reward for episode 187.000000.  Total average reward 95.100072.\n",
      "Average reward for episode 188.000000.  Total average reward 96.029071.\n",
      "Average reward for episode 186.600000.  Total average reward 96.934780.\n",
      "Average reward for episode 173.200000.  Total average reward 97.697432.\n",
      "Average reward for episode 200.000000.  Total average reward 98.720458.\n",
      "Average reward for episode 177.600000.  Total average reward 99.509253.\n",
      "Average reward for episode 200.000000.  Total average reward 100.514161.\n"
     ]
    }
   ],
   "source": [
    "xs,hs,dlogps,drs,ys,tfps = [],[],[],[],[],[]\n",
    "running_reward = None\n",
    "reward_sum = 0\n",
    "episode_number = 1\n",
    "total_episodes = 10000\n",
    "init = tf.initialize_all_variables()\n",
    "\n",
    "# Launch the graph\n",
    "with tf.Session() as sess:\n",
    "    rendering = False\n",
    "    sess.run(init)\n",
    "    observation = env.reset() # Obtain an initial observation of the environment\n",
    "\n",
    "    # Reset the gradient placeholder. We will collect gradients in \n",
    "    # gradBuffer until we are ready to update our policy network. \n",
    "    gradBuffer = sess.run(tvars)\n",
    "    for ix,grad in enumerate(gradBuffer):\n",
    "        gradBuffer[ix] = grad * 0\n",
    "    \n",
    "    while episode_number <= total_episodes:\n",
    "        \n",
    "        # Rendering the environment slows things down, \n",
    "        # so let's only look at it once our agent is doing a good job.\n",
    "        if reward_sum/batch_size > 100 or rendering == True : \n",
    "            env.render()\n",
    "            rendering = True\n",
    "            \n",
    "        # Make sure the observation is in a shape the network can handle.\n",
    "        x = np.reshape(observation,[1,D])\n",
    "        \n",
    "        # Run the policy network and get an action to take. \n",
    "        tfprob = sess.run(probability,feed_dict={observations: x})\n",
    "        action = 1 if np.random.uniform() < tfprob else 0\n",
    "        \n",
    "        xs.append(x) # observation\n",
    "        y = 1 if action == 0 else 0 # a \"fake label\"\n",
    "        ys.append(y)\n",
    "\n",
    "        # step the environment and get new measurements\n",
    "        observation, reward, done, info = env.step(action)\n",
    "        reward_sum += reward\n",
    "\n",
    "        drs.append(reward) # record reward (has to be done after we call step() to get reward for previous action)\n",
    "\n",
    "        if done: \n",
    "            episode_number += 1\n",
    "            # stack together all inputs, hidden states, action gradients, and rewards for this episode\n",
    "            epx = np.vstack(xs)\n",
    "            epy = np.vstack(ys)\n",
    "            epr = np.vstack(drs)\n",
    "            tfp = tfps\n",
    "            xs,hs,dlogps,drs,ys,tfps = [],[],[],[],[],[] # reset array memory\n",
    "\n",
    "            # compute the discounted reward backwards through time\n",
    "            discounted_epr = discount_rewards(epr)\n",
    "            # size the rewards to be unit normal (helps control the gradient estimator variance)\n",
    "            discounted_epr -= np.mean(discounted_epr)\n",
    "            discounted_epr /= np.std(discounted_epr)\n",
    "            \n",
    "            # Get the gradient for this episode, and save it in the gradBuffer\n",
    "            tGrad = sess.run(newGrads,feed_dict={observations: epx, input_y: epy, advantages: discounted_epr})\n",
    "            for ix,grad in enumerate(tGrad):\n",
    "                gradBuffer[ix] += grad\n",
    "                \n",
    "            # If we have completed enough episodes, then update the policy network with our gradients.\n",
    "            if episode_number % batch_size == 0: \n",
    "                sess.run(updateGrads,feed_dict={W1Grad: gradBuffer[0],W2Grad:gradBuffer[1]})\n",
    "                for ix,grad in enumerate(gradBuffer):\n",
    "                    gradBuffer[ix] = grad * 0\n",
    "                \n",
    "                # Give a summary of how well our network is doing for each batch of episodes.\n",
    "                running_reward = reward_sum if running_reward is None else running_reward * 0.99 + reward_sum * 0.01\n",
    "                print 'Average reward for episode %f.  Total average reward %f.' % (reward_sum/batch_size, running_reward/batch_size)\n",
    "                \n",
    "                if reward_sum/batch_size > 200: \n",
    "                    print \"Task solved in\",episode_number,'episodes!'\n",
    "                    break\n",
    "                    \n",
    "                reward_sum = 0\n",
    "            \n",
    "            observation = env.reset()\n",
    "        \n",
    "print episode_number,'Episodes completed.'"
   ]
  },
  {
   "cell_type": "markdown",
   "metadata": {},
   "source": [
    "As you can see, the network not only does much better than random actions, but achieves the goal of 200 points per episode, thus solving the task!"
   ]
  }
 ],
 "metadata": {
  "kernelspec": {
   "display_name": "Python 2",
   "language": "python",
   "name": "python2"
  },
  "language_info": {
   "codemirror_mode": {
    "name": "ipython",
    "version": 2
   },
   "file_extension": ".py",
   "mimetype": "text/x-python",
   "name": "python",
   "nbconvert_exporter": "python",
   "pygments_lexer": "ipython2",
   "version": "2.7.12"
  }
 },
 "nbformat": 4,
 "nbformat_minor": 0
}
